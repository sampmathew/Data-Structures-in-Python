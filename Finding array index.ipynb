{
 "cells": [
  {
   "cell_type": "code",
   "execution_count": null,
   "id": "e1c68924",
   "metadata": {},
   "outputs": [],
   "source": [
    "import array as arr\n",
    "\n",
    "x = arr.array('i', [10, 30, 20, 60, 50])\n",
    "\n",
    "ele = int(input(\"Enter the element to find: \"))\n",
    "\n",
    "def e_index(x, ele):\n",
    "    n = len(x)\n",
    "    try:\n",
    "        for i in range(n):\n",
    "            if x[i] == ele:\n",
    "                return i  # Return index if found\n",
    "        raise ValueError(\"not found\")  # Raise ValueError if not found\n",
    "    except ValueError:\n",
    "        return -1  # Return -1 if ValueError occurs\n",
    "\n",
    "result = e_index(x, ele)\n",
    "\n",
    "print(result)"
   ]
  },
  {
   "cell_type": "code",
   "execution_count": null,
   "id": "4ad2049a",
   "metadata": {},
   "outputs": [],
   "source": [
    "import numpy as np\n",
    "\n",
    "x = np.array([10, 30, 20, 60, 50])  # Use NumPy's array\n",
    "\n",
    "ele = int(input(\"Enter the element to find: \"))\n",
    "\n",
    "def e_index(x, ele):\n",
    "    try:\n",
    "        return np.where(x == ele)[0][0]  # Find index using NumPy\n",
    "    except IndexError:  # Handle case where element is not found\n",
    "        return -1\n",
    "\n",
    "result = e_index(x, ele)\n",
    "\n",
    "print(result)\n"
   ]
  }
 ],
 "metadata": {
  "kernelspec": {
   "display_name": "Python 3 (ipykernel)",
   "language": "python",
   "name": "python3"
  },
  "language_info": {
   "codemirror_mode": {
    "name": "ipython",
    "version": 3
   },
   "file_extension": ".py",
   "mimetype": "text/x-python",
   "name": "python",
   "nbconvert_exporter": "python",
   "pygments_lexer": "ipython3",
   "version": "3.11.5"
  }
 },
 "nbformat": 4,
 "nbformat_minor": 5
}
