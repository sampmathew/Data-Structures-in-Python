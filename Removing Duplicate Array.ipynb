{
 "cells": [
  {
   "cell_type": "code",
   "execution_count": null,
   "id": "759ed351",
   "metadata": {},
   "outputs": [],
   "source": [
    "#remove duplicates from the array using for loop\n",
    "import numpy as np\n",
    "x=np.array([3,5,2,7,8,4,5])\n",
    "print(type(x))\n",
    "n=len(x)\n",
    "new_arr=[]\n",
    "for i in x:\n",
    "    if i not in new_arr:\n",
    "        new_arr.append(i)\n",
    "print(new_arr)"
   ]
  },
  {
   "cell_type": "code",
   "execution_count": 6,
   "id": "4fc302d2",
   "metadata": {},
   "outputs": [
    {
     "name": "stdout",
     "output_type": "stream",
     "text": [
      "<class 'numpy.ndarray'>\n",
      "[2 3 4 5 7 8]\n"
     ]
    }
   ],
   "source": [
    "#remove duplicates from the array using type conversion\n",
    "import numpy as np\n",
    "x=np.array([3,5,2,7,8,4,5])\n",
    "print(type(x))\n",
    "def remove_duplicates(x):\n",
    "    unique_element=list(set(x))\n",
    "    return np.array(unique_element)\n",
    "print(remove_duplicates(x))"
   ]
  }
 ],
 "metadata": {
  "kernelspec": {
   "display_name": "Python 3 (ipykernel)",
   "language": "python",
   "name": "python3"
  },
  "language_info": {
   "codemirror_mode": {
    "name": "ipython",
    "version": 3
   },
   "file_extension": ".py",
   "mimetype": "text/x-python",
   "name": "python",
   "nbconvert_exporter": "python",
   "pygments_lexer": "ipython3",
   "version": "3.11.5"
  }
 },
 "nbformat": 4,
 "nbformat_minor": 5
}
