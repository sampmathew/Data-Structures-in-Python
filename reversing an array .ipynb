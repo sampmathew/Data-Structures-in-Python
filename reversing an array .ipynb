{
 "cells": [
  {
   "cell_type": "code",
   "execution_count": 1,
   "id": "662c0271-f12c-4af9-9550-4b67187a6fdb",
   "metadata": {},
   "outputs": [
    {
     "name": "stdout",
     "output_type": "stream",
     "text": [
      "[5 4 8 7 2 5 3]\n"
     ]
    }
   ],
   "source": [
    "import numpy as np\n",
    "x=np.array([3,5,2,7,8,4,5])\n",
    "type(x)\n",
    "print(x[::-1])"
   ]
  },
  {
   "cell_type": "code",
   "execution_count": 25,
   "id": "9cf95444-3a67-44c8-80b8-136c5db2bfda",
   "metadata": {},
   "outputs": [
    {
     "name": "stdout",
     "output_type": "stream",
     "text": [
      "5\n",
      "4\n",
      "8\n",
      "7\n",
      "2\n",
      "5\n",
      "3\n"
     ]
    }
   ],
   "source": [
    "import numpy as np\n",
    "x=np.array([3,5,2,7,8,4,5])\n",
    "n=len(x)\n",
    "for i in range(n-1,-1,-1):\n",
    "    print(x[i])"
   ]
  },
  {
   "cell_type": "code",
   "execution_count": 29,
   "id": "267cb413-3e3a-4803-a735-92949608767d",
   "metadata": {},
   "outputs": [
    {
     "name": "stdout",
     "output_type": "stream",
     "text": [
      "[5, 4, 8, 7, 2, 5, 3]\n"
     ]
    }
   ],
   "source": [
    "import numpy as np\n",
    "x=np.array([3,5,2,7,8,4,5])\n",
    "n=len(x)\n",
    "new_arr=[]\n",
    "for i in range(n-1,-1,-1):\n",
    "    new_arr.append(x[i])\n",
    "print(new_arr)"
   ]
  },
  {
   "cell_type": "code",
   "execution_count": null,
   "id": "0200009e-79eb-4397-900a-cae3f75c5fec",
   "metadata": {},
   "outputs": [],
   "source": []
  }
 ],
 "metadata": {
  "kernelspec": {
   "display_name": "Python 3 (ipykernel)",
   "language": "python",
   "name": "python3"
  },
  "language_info": {
   "codemirror_mode": {
    "name": "ipython",
    "version": 3
   },
   "file_extension": ".py",
   "mimetype": "text/x-python",
   "name": "python",
   "nbconvert_exporter": "python",
   "pygments_lexer": "ipython3",
   "version": "3.12.4"
  }
 },
 "nbformat": 4,
 "nbformat_minor": 5
}
