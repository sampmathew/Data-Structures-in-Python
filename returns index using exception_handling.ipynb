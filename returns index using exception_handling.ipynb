{
 "cells": [
  {
   "cell_type": "code",
   "execution_count": 3,
   "id": "cd95fd0c-8e7d-4a68-9577-5e0a1f04dc46",
   "metadata": {},
   "outputs": [],
   "source": [
    "#write a function that takes an array and an element as input, and returns the index of the element in the element in the array.\n",
    "# If the element is not found, it should return -1.\n",
    "# Hint: Use Exception handling concept"
   ]
  },
  {
   "cell_type": "code",
   "execution_count": 5,
   "id": "c43fa848-3050-4b94-975e-721b24062f01",
   "metadata": {},
   "outputs": [
    {
     "name": "stdout",
     "output_type": "stream",
     "text": [
      "2\n",
      "-1\n"
     ]
    }
   ],
   "source": [
    "def find_index(x, y):\n",
    "    try:\n",
    "        return x.index(y)\n",
    "    except ValueError:\n",
    "        return -1\n",
    "\n",
    "my_list = [10, 20, 30, 40, 50]\n",
    "print(find_index(my_list,30)) \n",
    "print(find_index(my_list,100))"
   ]
  },
  {
   "cell_type": "code",
   "execution_count": 11,
   "id": "cdffbde5-82fe-4d1b-a1fe-ba0888d3f41d",
   "metadata": {},
   "outputs": [
    {
     "name": "stdin",
     "output_type": "stream",
     "text": [
      " 65654\n"
     ]
    },
    {
     "name": "stdout",
     "output_type": "stream",
     "text": [
      "-1\n"
     ]
    }
   ],
   "source": [
    "import array as arr\n",
    "x=arr.array('i',[10,30,20,60,50])\n",
    "ele=int(input())\n",
    "def e_index(x,ele):\n",
    "    n=len(x)\n",
    "    try:\n",
    "        for i in range(n):\n",
    "            if x[i] == ele:\n",
    "                return i\n",
    "\n",
    "        raise ValueError(\"NOT FOUND\")\n",
    "    except ValueError:\n",
    "        return -1\n",
    "result =e_index(x,ele)\n",
    "print(result)"
   ]
  },
  {
   "cell_type": "code",
   "execution_count": 13,
   "id": "8ea3d5fe-c9f1-4108-9f58-7c9781d1546b",
   "metadata": {},
   "outputs": [
    {
     "ename": "TypeError",
     "evalue": "Field elements must be 2- or 3-tuples, got '10'",
     "output_type": "error",
     "traceback": [
      "\u001b[1;31m---------------------------------------------------------------------------\u001b[0m",
      "\u001b[1;31mTypeError\u001b[0m                                 Traceback (most recent call last)",
      "Cell \u001b[1;32mIn[13], line 3\u001b[0m\n\u001b[0;32m      1\u001b[0m \u001b[38;5;66;03m#using Numpy\u001b[39;00m\n\u001b[0;32m      2\u001b[0m \u001b[38;5;28;01mimport\u001b[39;00m \u001b[38;5;21;01mnumpy\u001b[39;00m \u001b[38;5;28;01mas\u001b[39;00m \u001b[38;5;21;01mnp\u001b[39;00m\n\u001b[1;32m----> 3\u001b[0m x\u001b[38;5;241m=\u001b[39mnp\u001b[38;5;241m.\u001b[39marray(\u001b[38;5;124m'\u001b[39m\u001b[38;5;124mi\u001b[39m\u001b[38;5;124m'\u001b[39m,[\u001b[38;5;241m10\u001b[39m,\u001b[38;5;241m30\u001b[39m,\u001b[38;5;241m20\u001b[39m,\u001b[38;5;241m60\u001b[39m,\u001b[38;5;241m50\u001b[39m])\n\u001b[0;32m      4\u001b[0m ele\u001b[38;5;241m=\u001b[39m\u001b[38;5;28mint\u001b[39m(\u001b[38;5;28minput\u001b[39m())\n\u001b[0;32m      5\u001b[0m \u001b[38;5;28;01mdef\u001b[39;00m \u001b[38;5;21me_index\u001b[39m(x,ele):\n",
      "\u001b[1;31mTypeError\u001b[0m: Field elements must be 2- or 3-tuples, got '10'"
     ]
    }
   ],
   "source": [
    "#using Numpy\n",
    "import numpy as np\n",
    "x=np.array('i',[10,30,20,60,50])\n",
    "ele=int(input())\n",
    "def e_index(x,ele):\n",
    "    n=len(x)\n",
    "    try:\n",
    "        for i in range(n):\n",
    "            if x[i] == ele:\n",
    "                return i\n",
    "\n",
    "        raise ValueError(\"NOT FOUND\")\n",
    "    except ValueError:\n",
    "        return -1\n",
    "result =e_index(x,ele)\n",
    "print(result)"
   ]
  },
  {
   "cell_type": "code",
   "execution_count": null,
   "id": "f6489ff9-4683-4368-bea4-d345ffd811aa",
   "metadata": {},
   "outputs": [],
   "source": []
  }
 ],
 "metadata": {
  "kernelspec": {
   "display_name": "Python 3 (ipykernel)",
   "language": "python",
   "name": "python3"
  },
  "language_info": {
   "codemirror_mode": {
    "name": "ipython",
    "version": 3
   },
   "file_extension": ".py",
   "mimetype": "text/x-python",
   "name": "python",
   "nbconvert_exporter": "python",
   "pygments_lexer": "ipython3",
   "version": "3.12.4"
  }
 },
 "nbformat": 4,
 "nbformat_minor": 5
}
