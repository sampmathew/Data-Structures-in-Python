{
 "cells": [
  {
   "cell_type": "code",
   "execution_count": null,
   "id": "3ebf5fdb",
   "metadata": {},
   "outputs": [],
   "source": [
    "#array intersection\n",
    "import numpy as np\n",
    "x1=np.array([10,20,30,90])\n",
    "x2=np.array([20,30,100,0])\n",
    "def arr_common(x1,x2):\n",
    "  new_arr=[]\n",
    "  for i in x1:\n",
    "    if i in x2:\n",
    "      new_arr.append(i)\n",
    "  return np.array(new_arr)\n",
    "result=arr_common(x1,x2)\n",
    "print(type(result))\n",
    "print(result)"
   ]
  }
 ],
 "metadata": {
  "kernelspec": {
   "display_name": "Python 3 (ipykernel)",
   "language": "python",
   "name": "python3"
  },
  "language_info": {
   "codemirror_mode": {
    "name": "ipython",
    "version": 3
   },
   "file_extension": ".py",
   "mimetype": "text/x-python",
   "name": "python",
   "nbconvert_exporter": "python",
   "pygments_lexer": "ipython3",
   "version": "3.11.5"
  }
 },
 "nbformat": 4,
 "nbformat_minor": 5
}
